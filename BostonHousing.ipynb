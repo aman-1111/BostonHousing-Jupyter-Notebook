{
 "cells": [
  {
   "cell_type": "code",
   "execution_count": 4,
   "id": "523f3e5d-1cf8-4d9f-bac9-24225ea81641",
   "metadata": {},
   "outputs": [],
   "source": [
    "import pandas as pd\n",
    "import seaborn as sns\n",
    "import matplotlib.pyplot as plt"
   ]
  },
  {
   "cell_type": "code",
   "execution_count": 6,
   "id": "f97b6c1b-97ee-439a-ac62-9475322827c9",
   "metadata": {},
   "outputs": [],
   "source": [
    "df=pd.read_csv(\"/home/aman-chaurasia/Documents/BostonHousing/BostonHousing.csv\")"
   ]
  },
  {
   "cell_type": "code",
   "execution_count": 8,
   "id": "21f6c565-db73-410a-83cb-c746e16298ea",
   "metadata": {},
   "outputs": [],
   "source": [
    "df"
   ]
  },
  {
   "cell_type": "code",
   "execution_count": 24,
   "id": "f63cd538-8004-44c8-bfd7-816457acc496",
   "metadata": {},
   "outputs": [],
   "source": [
    "df.corr(numeric_only=True)"
   ]
  },
  {
   "cell_type": "code",
   "execution_count": 25,
   "id": "4ae113e5-1d21-4959-98b3-25330fb3242a",
   "metadata": {},
   "outputs": [],
   "source": [
    "df.corr()"
   ]
  },
  {
   "cell_type": "code",
   "execution_count": 35,
   "id": "cc784034-c561-4819-b268-eb47d145e6a6",
   "metadata": {},
   "outputs": [],
   "source": [
    "plt.figure(figsize=(15,10))\n",
    "sns.heatmap(df.corr(numeric_only=True),cmap=\"coolwarm\",annot=True)"
   ]
  },
  {
   "cell_type": "code",
   "execution_count": 16,
   "id": "16467efc-9fe1-4222-8f2a-c3df1a589294",
   "metadata": {},
   "outputs": [],
   "source": [
    "sns.scatterplot(data=a,x=\"b\",y=\"crim\")"
   ]
  },
  {
   "cell_type": "code",
   "execution_count": 27,
   "id": "7864a35e-6f13-4769-b5b9-1f2468499af7",
   "metadata": {},
   "outputs": [],
   "source": [
    "sns.pairplot(df)"
   ]
  },
  {
   "cell_type": "code",
   "execution_count": 8,
   "id": "f7075aa6-ae7f-43ce-9c28-b2d753131171",
   "metadata": {},
   "outputs": [],
   "source": [
    "sns.scatterplot(data=df,x=\"crim\",y=\"indus\")"
   ]
  },
  {
   "cell_type": "code",
   "execution_count": 6,
   "id": "7e924780-830f-4d85-b826-63285b12778c",
   "metadata": {},
   "outputs": [],
   "source": [
    "test = df.iloc[:,:]\n",
    "test"
   ]
  },
  {
   "cell_type": "markdown",
   "id": "27d670c4-5d26-4d93-b8a0-6ee985cf5978",
   "metadata": {},
   "source": [
    "**before comma is a row and after comma is a column**"
   ]
  },
  {
   "cell_type": "code",
   "execution_count": 9,
   "id": "926830b3-2644-4888-ba7d-c721b8f833c9",
   "metadata": {},
   "outputs": [],
   "source": [
    "test=df.iloc[:,:]\n",
    "test.shape"
   ]
  },
  {
   "cell_type": "code",
   "execution_count": 8,
   "id": "5e179cf3-5858-40e1-9955-4bec39475f66",
   "metadata": {},
   "outputs": [],
   "source": [
    "test=df.iloc[10:,:]\n",
    "test.shape"
   ]
  },
  {
   "cell_type": "code",
   "execution_count": 10,
   "id": "e637b510-5ab5-4a22-9b06-012f8997a663",
   "metadata": {},
   "outputs": [],
   "source": [
    "test=df.iloc[10:20,:]\n",
    "test.shape"
   ]
  },
  {
   "cell_type": "markdown",
   "id": "1093d5b3-39d0-4858-8523-59452de186c5",
   "metadata": {},
   "source": [
    "**5 before : is used to take first 5 column**"
   ]
  },
  {
   "cell_type": "code",
   "execution_count": 17,
   "id": "636f787f-f6dd-481e-a3c0-526e65414115",
   "metadata": {},
   "outputs": [],
   "source": [
    "test=df.iloc[:,5:]\n",
    "test.shape"
   ]
  },
  {
   "cell_type": "markdown",
   "id": "38d9c22a-0851-4311-aa3e-f572f6617597",
   "metadata": {},
   "source": [
    "**5 after colon is used to take last 5 column**"
   ]
  },
  {
   "cell_type": "code",
   "execution_count": 15,
   "id": "bab5bdeb-bedf-4485-8696-666b5e448ea0",
   "metadata": {},
   "outputs": [],
   "source": [
    "test=df.iloc[0:10,:]\n",
    "test.shape"
   ]
  },
  {
   "cell_type": "code",
   "execution_count": 18,
   "id": "3eeaeec3-336d-4de6-9762-f6d5ac7b7815",
   "metadata": {},
   "outputs": [],
   "source": [
    "test"
   ]
  },
  {
   "cell_type": "code",
   "execution_count": null,
   "id": "371ed8e0-29d9-475a-b489-bf3bbcaa6da0",
   "metadata": {},
   "outputs": [],
   "source": [
    "** if we like to take first 13 col"
   ]
  },
  {
   "cell_type": "code",
   "execution_count": 23,
   "id": "89350009-34f7-463e-b25c-79180c6ba300",
   "metadata": {},
   "outputs": [],
   "source": [
    "from sklearn.model_selection import train_test_split\n",
    "from sklearn.linear_model import LinearRegression"
   ]
  },
  {
   "cell_type": "code",
   "execution_count": 21,
   "id": "12bc575a-c01e-44fb-9c7f-b5c3fef1e846",
   "metadata": {},
   "outputs": [],
   "source": [
    "x=df.iloc[:,:13]\n",
    "y=df[\"medv\"]\n",
    "train_x,test_x,train_y,test_y=train_test_split(\n",
    "    x,y,random_state=10,test_size=0.3\n",
    ")"
   ]
  },
  {
   "cell_type": "code",
   "execution_count": 24,
   "id": "5813319b-f6f5-48b2-ab96-e81e3e1279bd",
   "metadata": {},
   "outputs": [],
   "source": [
    "lin_model = LinearRegression()  \n",
    "lin_model.fit(pd.DataFrame(train_x),train_y)"
   ]
  },
  {
   "cell_type": "code",
   "execution_count": 25,
   "id": "6cff81ad-c2e6-4d90-9205-d4b4efebefde",
   "metadata": {},
   "outputs": [],
   "source": [
    "train_x"
   ]
  },
  {
   "cell_type": "code",
   "execution_count": 26,
   "id": "9c2fb0d4-3c09-4681-ad42-4c58129df356",
   "metadata": {},
   "outputs": [],
   "source": [
    "train_y"
   ]
  },
  {
   "cell_type": "code",
   "execution_count": 27,
   "id": "11d38327-011e-4328-a56c-3c1d4bc02e9a",
   "metadata": {},
   "outputs": [],
   "source": [
    "test_x"
   ]
  },
  {
   "cell_type": "code",
   "execution_count": 28,
   "id": "a2b45c06-753c-485f-8a9b-8549d25e2e43",
   "metadata": {},
   "outputs": [],
   "source": [
    "test_y"
   ]
  },
  {
   "cell_type": "code",
   "execution_count": 29,
   "id": "b19b0b2e-c773-41f1-8d9a-f75f6969d62a",
   "metadata": {},
   "outputs": [],
   "source": [
    "predicted_values = lin_model.predict(pd.DataFrame(test_x))\n",
    "plt.scatter(predicted_values,test_y)\n",
    "plt.show()"
   ]
  },
  {
   "cell_type": "code",
   "execution_count": 32,
   "id": "d5b5fdc5-0476-4eb6-bd1c-e8a4584bc502",
   "metadata": {},
   "outputs": [],
   "source": [
    "predicted_values = lin_model.predict(pd.DataFrame(train_x))\n",
    "plt.scatter(predicted_values,train_y)\n",
    "plt.show()"
   ]
  },
  {
   "cell_type": "markdown",
   "id": "46f9e7a0-f617-44c6-8646-22752ac018a3",
   "metadata": {},
   "source": [
    "**print mean square error and root mean square error and absolute error**"
   ]
  },
  {
   "cell_type": "code",
   "execution_count": 12,
   "id": "17c251fa-c12a-42d3-8e09-d6a12f148ca0",
   "metadata": {},
   "outputs": [],
   "source": [
    "import pandas as pd\n",
    "import numpy as np\n",
    "from sklearn.metrics import mean_squared_error\n",
    "\n",
    "# Load the Excel file (Replace 'your_file.xlsx' with your actual file name)\n",
    "# Print first few rows to check data\n",
    "print(df.head())\n",
    "\n",
    "# Assuming two columns: 'Actual' and 'Predicted' exist in the Excel file\n",
    "y_actual = df['crim'].values\n",
    "y_pred = df['medv'].values\n",
    "\n",
    "# Calculate MSE\n",
    "mse = mean_squared_error(y_actual, y_pred)\n",
    "\n",
    "print(\"Mean Squared Error:\", mse)\n"
   ]
  },
  {
   "cell_type": "code",
   "execution_count": 18,
   "id": "8d92c3f7-43f3-4e77-959e-d94bc773cc17",
   "metadata": {},
   "outputs": [],
   "source": [
    "import numpy as np\n",
    "import pandas as pd\n",
    "from sklearn.metrics import mean_squared_error\n",
    "from sklearn.linear_model import LinearRegression\n",
    "from sklearn.model_selection import train_test_split"
   ]
  },
  {
   "cell_type": "code",
   "execution_count": 20,
   "id": "7bac07bf-6da9-48e8-98e9-54b556810893",
   "metadata": {},
   "outputs": [],
   "source": [
    "X = df.drop(columns=['medv'])\n",
    "y = df['medv']\n",
    "X_train, X_test, y_train, y_test = train_test_split(X, y, test_size=0.2, random_state=42)\n",
    "model = LinearRegression()\n",
    "model.fit(X_train, y_train)\n",
    "y_pred = model.predict(X_test)\n",
    "mse = mean_squared_error(y_test, y_pred)\n",
    "print(\"Mean Squared Error:\", mse)\n"
   ]
  },
  {
   "cell_type": "code",
   "execution_count": 22,
   "id": "228bba0c-7b92-41ab-bdb6-6a613e4919dd",
   "metadata": {},
   "outputs": [],
   "source": [
    "x=df.drop(columns=['zn'])\n",
    "y=df['zn']\n",
    "x_train,x_test,y_train,y_test=train_test_split(x,y,test_size=0.2,random_state=12)\n",
    "model=LinearRegression()\n",
    "model.fit(x_train,y_train)\n",
    "y_pred=model.predict(x_test)\n",
    "mse=mean_squared_error(y_test,y_pred)\n",
    "print(mse)\n",
    "#root mean squrae error\n",
    "rmse=np.sqrt(mse)\n",
    "print(\"the root mean square error are:\",rmse)"
   ]
  },
  {
   "cell_type": "markdown",
   "id": "6b578a34-ab86-4214-84b3-bbb129c4c50a",
   "metadata": {},
   "source": [
    "**confusion matrix are:**\n",
    "**true postitive,true negative ,false positive,false negative**"
   ]
  },
  {
   "cell_type": "markdown",
   "id": "32669937-4808-480d-95dc-e1d0958c5c23",
   "metadata": {},
   "source": [
    "**false positive is an error **"
   ]
  },
  {
   "cell_type": "code",
   "execution_count": null,
   "id": "f0014de5-02d2-40f9-8be9-9be187a0f8c7",
   "metadata": {},
   "outputs": [],
   "source": []
  }
 ],
 "metadata": {
  "language_info": {
   "name": "python"
  }
 },
 "nbformat": 4,
 "nbformat_minor": 5
}
